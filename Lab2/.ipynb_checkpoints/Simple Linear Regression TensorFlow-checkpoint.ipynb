{
 "cells": [
  {
   "cell_type": "code",
   "execution_count": 1,
   "id": "following-color",
   "metadata": {},
   "outputs": [],
   "source": [
    "import tensorflow as tf"
   ]
  },
  {
   "cell_type": "code",
   "execution_count": 2,
   "id": "ambient-memorabilia",
   "metadata": {},
   "outputs": [],
   "source": [
    "a = tf.constant(2, dtype=tf.float32)\n",
    "b = tf.constant(1, dtype=tf.float32)"
   ]
  },
  {
   "cell_type": "code",
   "execution_count": 3,
   "id": "searching-howard",
   "metadata": {},
   "outputs": [
    {
     "data": {
      "text/plain": [
       "<tf.Tensor: shape=(), dtype=float32, numpy=3.0>"
      ]
     },
     "execution_count": 3,
     "metadata": {},
     "output_type": "execute_result"
    }
   ],
   "source": [
    "tf.add(a,b)"
   ]
  },
  {
   "cell_type": "markdown",
   "id": "interim-characterization",
   "metadata": {},
   "source": [
    "Will use the dataset from http://archive.ics.uci.edu/ml/machine-learning-databases/auto-mpg/auto-mpg.data to start\n",
    "\n",
    "space separated and no headings so this is how can read it in"
   ]
  },
  {
   "cell_type": "code",
   "execution_count": 4,
   "id": "associate-pasta",
   "metadata": {},
   "outputs": [],
   "source": [
    "import pandas as pd\n",
    "import numpy as np"
   ]
  },
  {
   "cell_type": "code",
   "execution_count": 5,
   "id": "opposed-directive",
   "metadata": {},
   "outputs": [],
   "source": [
    "column_names = ['MPG', 'Cylinders', 'Displacement', 'Horsepower', 'Weight',\n",
    "                'Acceleration', 'Model Year', 'Origin']\n",
    "\n",
    "df = pd.read_csv(\"auto-mpg.data\", names=column_names,\n",
    "                          na_values='?', comment='\\t',\n",
    "                          sep=' ', skipinitialspace=True)"
   ]
  },
  {
   "cell_type": "code",
   "execution_count": 6,
   "id": "literary-uncle",
   "metadata": {},
   "outputs": [
    {
     "data": {
      "text/html": [
       "<div>\n",
       "<style scoped>\n",
       "    .dataframe tbody tr th:only-of-type {\n",
       "        vertical-align: middle;\n",
       "    }\n",
       "\n",
       "    .dataframe tbody tr th {\n",
       "        vertical-align: top;\n",
       "    }\n",
       "\n",
       "    .dataframe thead th {\n",
       "        text-align: right;\n",
       "    }\n",
       "</style>\n",
       "<table border=\"1\" class=\"dataframe\">\n",
       "  <thead>\n",
       "    <tr style=\"text-align: right;\">\n",
       "      <th></th>\n",
       "      <th>MPG</th>\n",
       "      <th>Cylinders</th>\n",
       "      <th>Displacement</th>\n",
       "      <th>Horsepower</th>\n",
       "      <th>Weight</th>\n",
       "      <th>Acceleration</th>\n",
       "      <th>Model Year</th>\n",
       "      <th>Origin</th>\n",
       "    </tr>\n",
       "  </thead>\n",
       "  <tbody>\n",
       "    <tr>\n",
       "      <th>0</th>\n",
       "      <td>18.0</td>\n",
       "      <td>8</td>\n",
       "      <td>307.0</td>\n",
       "      <td>130.0</td>\n",
       "      <td>3504.0</td>\n",
       "      <td>12.0</td>\n",
       "      <td>70</td>\n",
       "      <td>1</td>\n",
       "    </tr>\n",
       "    <tr>\n",
       "      <th>1</th>\n",
       "      <td>15.0</td>\n",
       "      <td>8</td>\n",
       "      <td>350.0</td>\n",
       "      <td>165.0</td>\n",
       "      <td>3693.0</td>\n",
       "      <td>11.5</td>\n",
       "      <td>70</td>\n",
       "      <td>1</td>\n",
       "    </tr>\n",
       "    <tr>\n",
       "      <th>2</th>\n",
       "      <td>18.0</td>\n",
       "      <td>8</td>\n",
       "      <td>318.0</td>\n",
       "      <td>150.0</td>\n",
       "      <td>3436.0</td>\n",
       "      <td>11.0</td>\n",
       "      <td>70</td>\n",
       "      <td>1</td>\n",
       "    </tr>\n",
       "    <tr>\n",
       "      <th>3</th>\n",
       "      <td>16.0</td>\n",
       "      <td>8</td>\n",
       "      <td>304.0</td>\n",
       "      <td>150.0</td>\n",
       "      <td>3433.0</td>\n",
       "      <td>12.0</td>\n",
       "      <td>70</td>\n",
       "      <td>1</td>\n",
       "    </tr>\n",
       "    <tr>\n",
       "      <th>4</th>\n",
       "      <td>17.0</td>\n",
       "      <td>8</td>\n",
       "      <td>302.0</td>\n",
       "      <td>140.0</td>\n",
       "      <td>3449.0</td>\n",
       "      <td>10.5</td>\n",
       "      <td>70</td>\n",
       "      <td>1</td>\n",
       "    </tr>\n",
       "    <tr>\n",
       "      <th>...</th>\n",
       "      <td>...</td>\n",
       "      <td>...</td>\n",
       "      <td>...</td>\n",
       "      <td>...</td>\n",
       "      <td>...</td>\n",
       "      <td>...</td>\n",
       "      <td>...</td>\n",
       "      <td>...</td>\n",
       "    </tr>\n",
       "    <tr>\n",
       "      <th>393</th>\n",
       "      <td>27.0</td>\n",
       "      <td>4</td>\n",
       "      <td>140.0</td>\n",
       "      <td>86.0</td>\n",
       "      <td>2790.0</td>\n",
       "      <td>15.6</td>\n",
       "      <td>82</td>\n",
       "      <td>1</td>\n",
       "    </tr>\n",
       "    <tr>\n",
       "      <th>394</th>\n",
       "      <td>44.0</td>\n",
       "      <td>4</td>\n",
       "      <td>97.0</td>\n",
       "      <td>52.0</td>\n",
       "      <td>2130.0</td>\n",
       "      <td>24.6</td>\n",
       "      <td>82</td>\n",
       "      <td>2</td>\n",
       "    </tr>\n",
       "    <tr>\n",
       "      <th>395</th>\n",
       "      <td>32.0</td>\n",
       "      <td>4</td>\n",
       "      <td>135.0</td>\n",
       "      <td>84.0</td>\n",
       "      <td>2295.0</td>\n",
       "      <td>11.6</td>\n",
       "      <td>82</td>\n",
       "      <td>1</td>\n",
       "    </tr>\n",
       "    <tr>\n",
       "      <th>396</th>\n",
       "      <td>28.0</td>\n",
       "      <td>4</td>\n",
       "      <td>120.0</td>\n",
       "      <td>79.0</td>\n",
       "      <td>2625.0</td>\n",
       "      <td>18.6</td>\n",
       "      <td>82</td>\n",
       "      <td>1</td>\n",
       "    </tr>\n",
       "    <tr>\n",
       "      <th>397</th>\n",
       "      <td>31.0</td>\n",
       "      <td>4</td>\n",
       "      <td>119.0</td>\n",
       "      <td>82.0</td>\n",
       "      <td>2720.0</td>\n",
       "      <td>19.4</td>\n",
       "      <td>82</td>\n",
       "      <td>1</td>\n",
       "    </tr>\n",
       "  </tbody>\n",
       "</table>\n",
       "<p>398 rows × 8 columns</p>\n",
       "</div>"
      ],
      "text/plain": [
       "      MPG  Cylinders  Displacement  Horsepower  Weight  Acceleration  \\\n",
       "0    18.0          8         307.0       130.0  3504.0          12.0   \n",
       "1    15.0          8         350.0       165.0  3693.0          11.5   \n",
       "2    18.0          8         318.0       150.0  3436.0          11.0   \n",
       "3    16.0          8         304.0       150.0  3433.0          12.0   \n",
       "4    17.0          8         302.0       140.0  3449.0          10.5   \n",
       "..    ...        ...           ...         ...     ...           ...   \n",
       "393  27.0          4         140.0        86.0  2790.0          15.6   \n",
       "394  44.0          4          97.0        52.0  2130.0          24.6   \n",
       "395  32.0          4         135.0        84.0  2295.0          11.6   \n",
       "396  28.0          4         120.0        79.0  2625.0          18.6   \n",
       "397  31.0          4         119.0        82.0  2720.0          19.4   \n",
       "\n",
       "     Model Year  Origin  \n",
       "0            70       1  \n",
       "1            70       1  \n",
       "2            70       1  \n",
       "3            70       1  \n",
       "4            70       1  \n",
       "..          ...     ...  \n",
       "393          82       1  \n",
       "394          82       2  \n",
       "395          82       1  \n",
       "396          82       1  \n",
       "397          82       1  \n",
       "\n",
       "[398 rows x 8 columns]"
      ]
     },
     "execution_count": 6,
     "metadata": {},
     "output_type": "execute_result"
    }
   ],
   "source": [
    "df"
   ]
  },
  {
   "cell_type": "markdown",
   "id": "sustained-check",
   "metadata": {},
   "source": [
    "Want to build a linear regression model, to predict Horsepower from MPG, ignoring the rest\n",
    "\n",
    "But have to clean df"
   ]
  },
  {
   "cell_type": "code",
   "execution_count": 7,
   "id": "possible-decision",
   "metadata": {},
   "outputs": [
    {
     "data": {
      "text/plain": [
       "MPG             0\n",
       "Cylinders       0\n",
       "Displacement    0\n",
       "Horsepower      6\n",
       "Weight          0\n",
       "Acceleration    0\n",
       "Model Year      0\n",
       "Origin          0\n",
       "dtype: int64"
      ]
     },
     "execution_count": 7,
     "metadata": {},
     "output_type": "execute_result"
    }
   ],
   "source": [
    "df.isna().sum()"
   ]
  },
  {
   "cell_type": "code",
   "execution_count": 8,
   "id": "operational-marking",
   "metadata": {},
   "outputs": [],
   "source": [
    "df = df.dropna()"
   ]
  },
  {
   "cell_type": "markdown",
   "id": "spectacular-commitment",
   "metadata": {},
   "source": [
    "Going to split the dataset into a set to FIT the model and to EVALUATE the model. Train/test sets"
   ]
  },
  {
   "cell_type": "code",
   "execution_count": 9,
   "id": "conceptual-import",
   "metadata": {},
   "outputs": [],
   "source": [
    "train_dataset = df.sample(frac=0.8, random_state=0)\n",
    "test_dataset = df.drop(train_dataset.index)"
   ]
  },
  {
   "cell_type": "code",
   "execution_count": 10,
   "id": "blocked-nomination",
   "metadata": {},
   "outputs": [
    {
     "data": {
      "text/plain": [
       "146     75.0\n",
       "282     88.0\n",
       "69     160.0\n",
       "378     63.0\n",
       "331     67.0\n",
       "       ...  \n",
       "281     85.0\n",
       "229    180.0\n",
       "150     93.0\n",
       "145     61.0\n",
       "182     86.0\n",
       "Name: Horsepower, Length: 314, dtype: float64"
      ]
     },
     "execution_count": 10,
     "metadata": {},
     "output_type": "execute_result"
    }
   ],
   "source": [
    "train_dataset[\"Horsepower\"]"
   ]
  },
  {
   "cell_type": "code",
   "execution_count": 11,
   "id": "collectible-agreement",
   "metadata": {},
   "outputs": [],
   "source": [
    "X_train = train_dataset[\"Horsepower\"]\n",
    "y_train = train_dataset[\"MPG\"]"
   ]
  },
  {
   "cell_type": "code",
   "execution_count": 12,
   "id": "associate-favor",
   "metadata": {},
   "outputs": [],
   "source": [
    "X_test = test_dataset[\"Horsepower\"]\n",
    "y_test = test_dataset[\"MPG\"]"
   ]
  },
  {
   "cell_type": "markdown",
   "id": "local-ghana",
   "metadata": {},
   "source": [
    "Could do this also with sklearn"
   ]
  },
  {
   "cell_type": "code",
   "execution_count": 13,
   "id": "sharp-confidentiality",
   "metadata": {},
   "outputs": [],
   "source": [
    "from sklearn.model_selection import train_test_split"
   ]
  },
  {
   "cell_type": "code",
   "execution_count": 14,
   "id": "light-purse",
   "metadata": {},
   "outputs": [],
   "source": [
    "skX_train, skX_test, sky_train, sky_test = train_test_split(df[\"Horsepower\"], df[\"MPG\"], random_state=0, train_size=0.8)"
   ]
  },
  {
   "cell_type": "code",
   "execution_count": 15,
   "id": "flexible-bloom",
   "metadata": {
    "scrolled": true
   },
   "outputs": [
    {
     "data": {
      "text/plain": [
       "220     70.0\n",
       "256    100.0\n",
       "301     70.0\n",
       "193     81.0\n",
       "57      95.0\n",
       "       ...  \n",
       "325     48.0\n",
       "194     90.0\n",
       "118     75.0\n",
       "48      88.0\n",
       "174     97.0\n",
       "Name: Horsepower, Length: 313, dtype: float64"
      ]
     },
     "execution_count": 15,
     "metadata": {},
     "output_type": "execute_result"
    }
   ],
   "source": [
    "skX_train"
   ]
  },
  {
   "cell_type": "code",
   "execution_count": 16,
   "id": "extraordinary-motel",
   "metadata": {},
   "outputs": [],
   "source": [
    "train_test_split?"
   ]
  },
  {
   "cell_type": "markdown",
   "id": "warming-agency",
   "metadata": {},
   "source": [
    "This will be a different split as the methods work differently"
   ]
  },
  {
   "cell_type": "markdown",
   "id": "norwegian-midwest",
   "metadata": {},
   "source": [
    "Sometimes it is useful to Normalise the data we are working with, so that the values all fall within a consistent range (if we had multiple features). Common one being StandardScaler in sklearn which makes the data have mean 0 and stddev 1\n",
    "\n",
    "Keras has a \"layer\" that we can use to build this preprocessing into the model rather than doing it manually\n",
    "\n",
    "The `preprocessing.Normalization` layer is a clean and simple way to build that preprocessing into your model. You create the layer and `.adapt()` it to the data:"
   ]
  },
  {
   "cell_type": "code",
   "execution_count": 17,
   "id": "knowing-payday",
   "metadata": {},
   "outputs": [],
   "source": [
    "from tensorflow.keras.layers.experimental import preprocessing"
   ]
  },
  {
   "cell_type": "code",
   "execution_count": 18,
   "id": "bigger-trout",
   "metadata": {},
   "outputs": [],
   "source": [
    "horsepower_normalizer = preprocessing.Normalization(input_shape=[1,])\n",
    "horsepower_normalizer.adapt(X_train.values) #use .values to convert from pd.Series to np.array"
   ]
  },
  {
   "cell_type": "code",
   "execution_count": 19,
   "id": "dedicated-hazard",
   "metadata": {},
   "outputs": [
    {
     "data": {
      "text/plain": [
       "<tensorflow.python.keras.layers.preprocessing.normalization.Normalization at 0x2694e2d7490>"
      ]
     },
     "execution_count": 19,
     "metadata": {},
     "output_type": "execute_result"
    }
   ],
   "source": [
    "horsepower_normalizer"
   ]
  },
  {
   "cell_type": "code",
   "execution_count": 20,
   "id": "fewer-springer",
   "metadata": {},
   "outputs": [
    {
     "data": {
      "text/plain": [
       "146     75.0\n",
       "282     88.0\n",
       "69     160.0\n",
       "378     63.0\n",
       "331     67.0\n",
       "       ...  \n",
       "281     85.0\n",
       "229    180.0\n",
       "150     93.0\n",
       "145     61.0\n",
       "182     86.0\n",
       "Name: Horsepower, Length: 314, dtype: float64"
      ]
     },
     "execution_count": 20,
     "metadata": {},
     "output_type": "execute_result"
    }
   ],
   "source": [
    "X_train"
   ]
  },
  {
   "cell_type": "code",
   "execution_count": 21,
   "id": "varied-moderator",
   "metadata": {},
   "outputs": [
    {
     "name": "stdout",
     "output_type": "stream",
     "text": [
      "Normalized: [[-0.78530395]\n",
      " [-0.443518  ]\n",
      " [ 1.4494503 ]\n",
      " [-1.1007986 ]\n",
      " [-0.9956337 ]\n",
      " [-0.39093554]\n",
      " [-1.1796724 ]\n",
      " [-0.9956337 ]\n",
      " [-0.25947943]\n",
      " [-0.443518  ]\n",
      " [-1.1796724 ]\n",
      " [ 1.9752748 ]\n",
      " [-0.443518  ]\n",
      " [ 1.186538  ]\n",
      " [ 1.3179941 ]\n",
      " [-0.78530395]\n",
      " [ 0.26634508]\n",
      " [ 1.186538  ]\n",
      " [-0.39093554]\n",
      " [-0.39093554]\n",
      " [ 0.63442224]\n",
      " [ 0.13488896]\n",
      " [-0.39093554]\n",
      " [ 0.13488896]\n",
      " [-0.7590127 ]\n",
      " [ 1.5809064 ]\n",
      " [-0.3383531 ]\n",
      " [-0.443518  ]\n",
      " [-0.1280233 ]\n",
      " [ 1.186538  ]\n",
      " [ 0.45038366]\n",
      " [-0.81159514]\n",
      " [-0.7590127 ]\n",
      " [-0.9956337 ]\n",
      " [ 0.13488896]\n",
      " [-0.39093554]\n",
      " [-1.0482162 ]\n",
      " [ 1.186538  ]\n",
      " [ 1.186538  ]\n",
      " [ 3.0269237 ]\n",
      " [ 1.5809064 ]\n",
      " [-0.9956337 ]\n",
      " [-0.78530395]\n",
      " [ 0.9236257 ]\n",
      " [-0.70643026]\n",
      " [ 1.1602467 ]\n",
      " [-0.5486829 ]\n",
      " [ 1.186538  ]\n",
      " [ 1.0550818 ]\n",
      " [-0.1280233 ]\n",
      " [-0.78530395]\n",
      " [ 1.7123625 ]\n",
      " [ 2.5010993 ]\n",
      " [-0.8641776 ]\n",
      " [-0.70643026]\n",
      " [-0.7590127 ]\n",
      " [-0.443518  ]\n",
      " [ 0.00343283]\n",
      " [-1.3637109 ]\n",
      " [-0.49610046]\n",
      " [-0.25947943]\n",
      " [-0.78530395]\n",
      " [-0.89046884]\n",
      " [ 2.4485168 ]\n",
      " [-0.9430513 ]\n",
      " [ 0.00343283]\n",
      " [ 2.8954678 ]\n",
      " [-0.443518  ]\n",
      " [-0.46980923]\n",
      " [-1.0482162 ]\n",
      " [-1.1796724 ]\n",
      " [-0.9693425 ]\n",
      " [ 0.63442224]\n",
      " [ 1.0550818 ]\n",
      " [-0.25947943]\n",
      " [ 1.2654116 ]\n",
      " [-0.9167601 ]\n",
      " [ 1.0550818 ]\n",
      " [-0.9693425 ]\n",
      " [-0.9167601 ]\n",
      " [-0.1280233 ]\n",
      " [-0.9167601 ]\n",
      " [-0.62755656]\n",
      " [-0.25947943]\n",
      " [ 3.1583798 ]\n",
      " [-0.39093554]\n",
      " [-0.20689698]\n",
      " [-0.1280233 ]\n",
      " [-1.0482162 ]\n",
      " [ 0.13488896]\n",
      " [-0.4172268 ]\n",
      " [ 1.186538  ]\n",
      " [ 0.13488896]\n",
      " [-0.25947943]\n",
      " [-0.5223917 ]\n",
      " [-0.20689698]\n",
      " [-1.1796724 ]\n",
      " [-0.443518  ]\n",
      " [-1.3900021 ]\n",
      " [-0.9167601 ]\n",
      " [ 2.4485168 ]\n",
      " [-0.89046884]\n",
      " [-0.39093554]\n",
      " [-0.8641776 ]\n",
      " [-1.1007986 ]\n",
      " [ 0.26634508]\n",
      " [-0.39093554]\n",
      " [ 0.7921696 ]\n",
      " [-1.3900021 ]\n",
      " [ 1.186538  ]\n",
      " [ 1.7123625 ]\n",
      " [-1.2322547 ]\n",
      " [-0.2331882 ]\n",
      " [ 0.52925736]\n",
      " [-0.3383531 ]\n",
      " [-0.25947943]\n",
      " [-0.39093554]\n",
      " [-0.25947943]\n",
      " [-0.6012654 ]\n",
      " [ 0.13488896]\n",
      " [-0.70643026]\n",
      " [-0.9956337 ]\n",
      " [ 2.711429  ]\n",
      " [ 0.00343283]\n",
      " [ 0.6607135 ]\n",
      " [ 1.186538  ]\n",
      " [-1.5477495 ]\n",
      " [-0.39093554]\n",
      " [-1.0745075 ]\n",
      " [-0.78530395]\n",
      " [-0.5223917 ]\n",
      " [-0.8641776 ]\n",
      " [-0.25947943]\n",
      " [-0.39093554]\n",
      " [ 1.0550818 ]\n",
      " [-0.443518  ]\n",
      " [ 1.6334888 ]\n",
      " [ 0.39780122]\n",
      " [ 2.238187  ]\n",
      " [-0.70643026]\n",
      " [-1.4688758 ]\n",
      " [-0.49610046]\n",
      " [ 1.186538  ]\n",
      " [-0.9167601 ]\n",
      " [ 0.05601528]\n",
      " [-0.6538478 ]\n",
      " [ 1.186538  ]\n",
      " [ 0.00343283]\n",
      " [-0.1280233 ]\n",
      " [ 1.0550818 ]\n",
      " [-0.6538478 ]\n",
      " [ 0.7395871 ]\n",
      " [ 0.00343283]\n",
      " [ 0.00343283]\n",
      " [-0.9693425 ]\n",
      " [-0.1280233 ]\n",
      " [ 0.13488896]\n",
      " [-0.1280233 ]\n",
      " [ 1.186538  ]\n",
      " [ 0.13488896]\n",
      " [-0.62755656]\n",
      " [ 0.6607135 ]\n",
      " [ 0.1874714 ]\n",
      " [-0.6538478 ]\n",
      " [ 0.2926363 ]\n",
      " [-0.8641776 ]\n",
      " [-0.1280233 ]\n",
      " [-0.78530395]\n",
      " [ 0.00343283]\n",
      " [-0.39093554]\n",
      " [ 0.9236257 ]\n",
      " [ 0.9236257 ]\n",
      " [-0.9167601 ]\n",
      " [-0.5223917 ]\n",
      " [-1.3637109 ]\n",
      " [-0.443518  ]\n",
      " [ 0.13488896]\n",
      " [-0.78530395]\n",
      " [-0.7590127 ]\n",
      " [-1.1270899 ]\n",
      " [-1.1270899 ]\n",
      " [ 2.7640116 ]\n",
      " [ 1.186538  ]\n",
      " [-0.3383531 ]\n",
      " [ 1.186538  ]\n",
      " [-0.70643026]\n",
      " [-0.3383531 ]\n",
      " [ 1.186538  ]\n",
      " [ 1.186538  ]\n",
      " [ 0.13488896]\n",
      " [-0.20689698]\n",
      " [-0.25947943]\n",
      " [-0.04914962]\n",
      " [ 0.13488896]\n",
      " [-0.443518  ]\n",
      " [ 0.39780122]\n",
      " [ 0.8973345 ]\n",
      " [-0.39093554]\n",
      " [ 1.5809064 ]\n",
      " [ 0.13488896]\n",
      " [-0.1280233 ]\n",
      " [-1.0482162 ]\n",
      " [ 2.8954678 ]\n",
      " [-0.5223917 ]\n",
      " [-0.5749741 ]\n",
      " [-0.20689698]\n",
      " [-0.9956337 ]\n",
      " [ 1.186538  ]\n",
      " [-0.443518  ]\n",
      " [ 0.26634508]\n",
      " [-0.49610046]\n",
      " [-0.78530395]\n",
      " [-1.1007986 ]\n",
      " [ 1.186538  ]\n",
      " [ 3.1583798 ]\n",
      " [-0.1280233 ]\n",
      " [ 1.186538  ]\n",
      " [-0.9956337 ]\n",
      " [ 0.71329594]\n",
      " [ 0.13488896]\n",
      " [ 1.7123625 ]\n",
      " [-0.25947943]\n",
      " [-0.443518  ]\n",
      " [-0.1280233 ]\n",
      " [-0.5486829 ]\n",
      " [-0.36464432]\n",
      " [-0.70643026]\n",
      " [ 1.2391205 ]\n",
      " [ 0.0823065 ]\n",
      " [-0.39093554]\n",
      " [-0.39093554]\n",
      " [-0.9956337 ]\n",
      " [ 1.1339555 ]\n",
      " [-0.8641776 ]\n",
      " [-0.20689698]\n",
      " [ 0.9236257 ]\n",
      " [ 0.1874714 ]\n",
      " [-0.28577065]\n",
      " [-1.0482162 ]\n",
      " [-0.07544085]\n",
      " [-0.5486829 ]\n",
      " [-0.5749741 ]\n",
      " [-0.9956337 ]\n",
      " [-0.5486829 ]\n",
      " [ 0.9236257 ]\n",
      " [ 0.00343283]\n",
      " [-0.25947943]\n",
      " [ 1.5809064 ]\n",
      " [-0.5749741 ]\n",
      " [ 1.3179941 ]\n",
      " [-0.39093554]\n",
      " [ 0.9236257 ]\n",
      " [-1.1796724 ]\n",
      " [ 1.7123625 ]\n",
      " [-0.5223917 ]\n",
      " [-0.9430513 ]\n",
      " [-1.5477495 ]\n",
      " [-0.18060575]\n",
      " [-0.9167601 ]\n",
      " [ 1.186538  ]\n",
      " [-0.9167601 ]\n",
      " [-0.1280233 ]\n",
      " [-0.46980923]\n",
      " [-0.5749741 ]\n",
      " [-0.7327215 ]\n",
      " [-0.9693425 ]\n",
      " [-0.2331882 ]\n",
      " [-0.3383531 ]\n",
      " [-1.0482162 ]\n",
      " [-0.3383531 ]\n",
      " [ 0.13488896]\n",
      " [ 1.4494503 ]\n",
      " [-0.89046884]\n",
      " [ 1.0550818 ]\n",
      " [-0.20689698]\n",
      " [-0.1280233 ]\n",
      " [-0.443518  ]\n",
      " [-1.3374196 ]\n",
      " [ 1.9752748 ]\n",
      " [-0.5223917 ]\n",
      " [-0.9167601 ]\n",
      " [ 0.39780122]\n",
      " [-0.39093554]\n",
      " [-1.0482162 ]\n",
      " [-1.495167  ]\n",
      " [ 1.9752748 ]\n",
      " [ 0.6607135 ]\n",
      " [ 1.8438187 ]\n",
      " [ 0.52925736]\n",
      " [-0.78530395]\n",
      " [ 0.39780122]\n",
      " [ 0.21376264]\n",
      " [ 1.8438187 ]\n",
      " [ 0.6607135 ]\n",
      " [-0.89046884]\n",
      " [-0.443518  ]\n",
      " [-0.1280233 ]\n",
      " [-0.9956337 ]\n",
      " [ 0.26634508]\n",
      " [ 0.00343283]\n",
      " [ 3.1583798 ]\n",
      " [-0.5223917 ]\n",
      " [ 1.8438187 ]\n",
      " [-1.0482162 ]\n",
      " [-0.2331882 ]\n",
      " [ 2.238187  ]\n",
      " [ 0.26634508]\n",
      " [-0.49610046]\n",
      " [-0.443518  ]\n",
      " [-0.5223917 ]\n",
      " [ 1.9752748 ]\n",
      " [-0.31206188]\n",
      " [-1.1533811 ]\n",
      " [-0.49610046]]\n"
     ]
    }
   ],
   "source": [
    "print('Normalized:', horsepower_normalizer(X_train.values).numpy())"
   ]
  },
  {
   "cell_type": "markdown",
   "id": "drawn-christmas",
   "metadata": {},
   "source": [
    "Now let's actually build the model. We will use Sequential, first layer to Normalise the data and second layer to actually do the $y=mx+c $"
   ]
  },
  {
   "cell_type": "code",
   "execution_count": 22,
   "id": "accepted-offense",
   "metadata": {},
   "outputs": [
    {
     "name": "stdout",
     "output_type": "stream",
     "text": [
      "Model: \"sequential\"\n",
      "_________________________________________________________________\n",
      "Layer (type)                 Output Shape              Param #   \n",
      "=================================================================\n",
      "normalization (Normalization (None, 1)                 3         \n",
      "_________________________________________________________________\n",
      "dense (Dense)                (None, 1)                 2         \n",
      "=================================================================\n",
      "Total params: 5\n",
      "Trainable params: 2\n",
      "Non-trainable params: 3\n",
      "_________________________________________________________________\n"
     ]
    }
   ],
   "source": [
    "model = tf.keras.Sequential([\n",
    "    horsepower_normalizer,\n",
    "    tf.keras.layers.Dense(units=1)\n",
    "])\n",
    "model.summary()"
   ]
  },
  {
   "cell_type": "markdown",
   "id": "induced-wayne",
   "metadata": {},
   "source": [
    "<a href=\"https://keras.io/api/layers/\">Keras Different Types of Layers</a>\n",
    "\n",
    "The number of inputs can either be set by the input_shape argument, or automatically when the model is run for the first time.\n",
    "\n",
    "Dense is the layer type that will allow Linear Regression\n",
    "\n",
    "Could also make the model as"
   ]
  },
  {
   "cell_type": "code",
   "execution_count": 23,
   "id": "great-lemon",
   "metadata": {},
   "outputs": [],
   "source": [
    "model = tf.keras.Sequential()\n",
    "model.add(horsepower_normalizer)"
   ]
  },
  {
   "cell_type": "code",
   "execution_count": 24,
   "id": "attempted-breach",
   "metadata": {},
   "outputs": [],
   "source": [
    "model.add(tf.keras.layers.Dense(units=1))"
   ]
  },
  {
   "cell_type": "code",
   "execution_count": 25,
   "id": "tight-shipping",
   "metadata": {},
   "outputs": [
    {
     "name": "stdout",
     "output_type": "stream",
     "text": [
      "Model: \"sequential_1\"\n",
      "_________________________________________________________________\n",
      "Layer (type)                 Output Shape              Param #   \n",
      "=================================================================\n",
      "normalization (Normalization (None, 1)                 3         \n",
      "_________________________________________________________________\n",
      "dense_1 (Dense)              (None, 1)                 2         \n",
      "=================================================================\n",
      "Total params: 5\n",
      "Trainable params: 2\n",
      "Non-trainable params: 3\n",
      "_________________________________________________________________\n"
     ]
    }
   ],
   "source": [
    "model.summary()"
   ]
  },
  {
   "cell_type": "code",
   "execution_count": 26,
   "id": "missing-italic",
   "metadata": {},
   "outputs": [],
   "source": [
    "model.compile(\n",
    "    optimizer=tf.optimizers.Adam(learning_rate=0.1),\n",
    "    loss='mean_absolute_error')"
   ]
  },
  {
   "cell_type": "code",
   "execution_count": 27,
   "id": "appreciated-parks",
   "metadata": {},
   "outputs": [],
   "source": [
    "import datetime"
   ]
  },
  {
   "cell_type": "code",
   "execution_count": 28,
   "id": "antique-hello",
   "metadata": {},
   "outputs": [],
   "source": [
    "history = model.fit(\n",
    "    X_train, y_train,\n",
    "    epochs=500,\n",
    "    # suppress logging\n",
    "    verbose=0,\n",
    "    # Calculate validation results on 20% of the training data\n",
    "    validation_split = 0\n",
    ")"
   ]
  },
  {
   "cell_type": "code",
   "execution_count": 29,
   "id": "happy-search",
   "metadata": {},
   "outputs": [
    {
     "data": {
      "text/html": [
       "<div>\n",
       "<style scoped>\n",
       "    .dataframe tbody tr th:only-of-type {\n",
       "        vertical-align: middle;\n",
       "    }\n",
       "\n",
       "    .dataframe tbody tr th {\n",
       "        vertical-align: top;\n",
       "    }\n",
       "\n",
       "    .dataframe thead th {\n",
       "        text-align: right;\n",
       "    }\n",
       "</style>\n",
       "<table border=\"1\" class=\"dataframe\">\n",
       "  <thead>\n",
       "    <tr style=\"text-align: right;\">\n",
       "      <th></th>\n",
       "      <th>loss</th>\n",
       "      <th>epoch</th>\n",
       "    </tr>\n",
       "  </thead>\n",
       "  <tbody>\n",
       "    <tr>\n",
       "      <th>495</th>\n",
       "      <td>3.870875</td>\n",
       "      <td>495</td>\n",
       "    </tr>\n",
       "    <tr>\n",
       "      <th>496</th>\n",
       "      <td>3.868314</td>\n",
       "      <td>496</td>\n",
       "    </tr>\n",
       "    <tr>\n",
       "      <th>497</th>\n",
       "      <td>3.870328</td>\n",
       "      <td>497</td>\n",
       "    </tr>\n",
       "    <tr>\n",
       "      <th>498</th>\n",
       "      <td>3.870144</td>\n",
       "      <td>498</td>\n",
       "    </tr>\n",
       "    <tr>\n",
       "      <th>499</th>\n",
       "      <td>3.868523</td>\n",
       "      <td>499</td>\n",
       "    </tr>\n",
       "  </tbody>\n",
       "</table>\n",
       "</div>"
      ],
      "text/plain": [
       "         loss  epoch\n",
       "495  3.870875    495\n",
       "496  3.868314    496\n",
       "497  3.870328    497\n",
       "498  3.870144    498\n",
       "499  3.868523    499"
      ]
     },
     "execution_count": 29,
     "metadata": {},
     "output_type": "execute_result"
    }
   ],
   "source": [
    "hist = pd.DataFrame(history.history)\n",
    "hist['epoch'] = history.epoch\n",
    "hist.tail()"
   ]
  },
  {
   "cell_type": "code",
   "execution_count": 30,
   "id": "welcome-miller",
   "metadata": {},
   "outputs": [],
   "source": [
    "import matplotlib.pyplot as plt"
   ]
  },
  {
   "cell_type": "code",
   "execution_count": 31,
   "id": "worthy-stanley",
   "metadata": {},
   "outputs": [],
   "source": [
    "from sklearn.linear_model import LinearRegression"
   ]
  },
  {
   "cell_type": "code",
   "execution_count": 32,
   "id": "bulgarian-enhancement",
   "metadata": {},
   "outputs": [
    {
     "data": {
      "text/plain": [
       "LinearRegression()"
      ]
     },
     "execution_count": 32,
     "metadata": {},
     "output_type": "execute_result"
    }
   ],
   "source": [
    "model_sk = LinearRegression()\n",
    "model_sk.fit(X_train.values.reshape(-1,1),y_train.values)"
   ]
  },
  {
   "cell_type": "code",
   "execution_count": 33,
   "id": "incomplete-focus",
   "metadata": {},
   "outputs": [
    {
     "data": {
      "text/plain": [
       "array([-0.15510479])"
      ]
     },
     "execution_count": 33,
     "metadata": {},
     "output_type": "execute_result"
    }
   ],
   "source": [
    "model_sk.coef_"
   ]
  },
  {
   "cell_type": "code",
   "execution_count": 34,
   "id": "experimental-witch",
   "metadata": {},
   "outputs": [
    {
     "data": {
      "text/plain": [
       "39.57626034041163"
      ]
     },
     "execution_count": 34,
     "metadata": {},
     "output_type": "execute_result"
    }
   ],
   "source": [
    "model_sk.intercept_"
   ]
  },
  {
   "cell_type": "code",
   "execution_count": 35,
   "id": "massive-centre",
   "metadata": {},
   "outputs": [
    {
     "data": {
      "text/plain": [
       "array([[39.57731]], dtype=float32)"
      ]
     },
     "execution_count": 35,
     "metadata": {},
     "output_type": "execute_result"
    }
   ],
   "source": [
    "model.predict(np.array([0]))"
   ]
  },
  {
   "cell_type": "code",
   "execution_count": 36,
   "id": "completed-penguin",
   "metadata": {},
   "outputs": [
    {
     "data": {
      "text/plain": [
       "array([39.57626034])"
      ]
     },
     "execution_count": 36,
     "metadata": {},
     "output_type": "execute_result"
    }
   ],
   "source": [
    "model_sk.predict(np.array([0]).reshape(-1,1))"
   ]
  },
  {
   "cell_type": "code",
   "execution_count": 37,
   "id": "defensive-edition",
   "metadata": {},
   "outputs": [],
   "source": [
    "def plot_horsepower(x, y):\n",
    "  plt.scatter(X_train, y_train, label='Data')\n",
    "  plt.plot(x, y, color='k', label='Predictions')\n",
    "  plt.xlabel('Horsepower')\n",
    "  plt.ylabel('MPG')\n",
    "  plt.legend()"
   ]
  },
  {
   "cell_type": "code",
   "execution_count": 38,
   "id": "included-dollar",
   "metadata": {},
   "outputs": [],
   "source": [
    "x = np.linspace(0.0, 250, 251)\n",
    "y_pred = model.predict(x)"
   ]
  },
  {
   "cell_type": "code",
   "execution_count": 39,
   "id": "alleged-demand",
   "metadata": {},
   "outputs": [
    {
     "data": {
      "image/png": "[encoded data removed]",
      "text/plain": [
       "<Figure size 432x288 with 1 Axes>"
      ]
     },
     "metadata": {
      "needs_background": "light"
     },
     "output_type": "display_data"
    }
   ],
   "source": [
    "plot_horsepower(x,y_pred)"
   ]
  },
  {
   "cell_type": "code",
   "execution_count": 40,
   "id": "completed-lodging",
   "metadata": {},
   "outputs": [],
   "source": [
    "x = np.linspace(0.0, 250, 251)\n",
    "y_pred = model_sk.predict(x.reshape(-1,1))"
   ]
  },
  {
   "cell_type": "code",
   "execution_count": 41,
   "id": "supported-facility",
   "metadata": {},
   "outputs": [
    {
     "data": {
      "image/png": "[encoded data removed]",
      "text/plain": [
       "<Figure size 432x288 with 1 Axes>"
      ]
     },
     "metadata": {
      "needs_background": "light"
     },
     "output_type": "display_data"
    }
   ],
   "source": [
    "plot_horsepower(x,y_pred)"
   ]
  },
  {
   "cell_type": "code",
   "execution_count": null,
   "id": "exact-software",
   "metadata": {},
   "outputs": [],
   "source": []
  }
 ],
 "metadata": {
  "kernelspec": {
   "display_name": "Python 3 (ipykernel)",
   "language": "python",
   "name": "python3"
  },
  "language_info": {
   "codemirror_mode": {
    "name": "ipython",
    "version": 3
   },
   "file_extension": ".py",
   "mimetype": "text/x-python",
   "name": "python",
   "nbconvert_exporter": "python",
   "pygments_lexer": "ipython3",
   "version": "3.9.7"
  }
 },
 "nbformat": 4,
 "nbformat_minor": 5
}
